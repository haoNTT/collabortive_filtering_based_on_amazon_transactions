{
 "cells": [
  {
   "cell_type": "code",
   "execution_count": 1,
   "metadata": {},
   "outputs": [],
   "source": [
    "import pandas as pd\n",
    "import pickle\n",
    "import numpy as np\n",
    "import matplotlib.pyplot as plt\n",
    "import seaborn as sns"
   ]
  },
  {
   "cell_type": "markdown",
   "metadata": {},
   "source": [
    "# Functions"
   ]
  },
  {
   "cell_type": "code",
   "execution_count": 2,
   "metadata": {},
   "outputs": [],
   "source": [
    "def get_comparison_ratings_for_user(completed_df,df_not_13, user_id, verbose = True):\n",
    "    \n",
    "    \"\"\"\n",
    "    This function takes a reviewer ID from the non 2013 dataset \n",
    "    and finds products common with that user in the 2013 completed matrix. \n",
    "    It generates a dataframe with common products and respective reviews, \n",
    "    in 2013 predicted and non-2013 actual. It also adds a difference column\n",
    "    comparing the actual ratings with predicted ratings. \n",
    "    \n",
    "    inputs:\n",
    "    completed_df = this is the predicted 2013 dataframe from the uvt multiplication \n",
    "    df_not_13 = this is the raw data of product id and ratings but with 2013 ratings (training) set removed\n",
    "    user_id = the reviewer for which we want to pull all the products\n",
    "    \n",
    "    output: \n",
    "    output_df = a dataframe containing reviewer id (user), the predicted rating in 2013, the actual rating outside 2013\n",
    "    \"\"\"\n",
    "    output_df = pd.DataFrame()\n",
    "    \n",
    "    # proceed if the user is found in 2013 dataset\n",
    "    if completed_df[completed_df.index==user_id].shape[0]> 0:\n",
    "\n",
    "        # get common products:\n",
    "        #       1) products present in 2013 for which ratings were predicted\n",
    "        #       2) products outside 2013 for which ratings were made by the user\n",
    "        try : \n",
    "            del l1, l2, l3\n",
    "        except: \n",
    "            pass\n",
    "        l1 = list(df_not_13[df_not_13.reviewerid==user_id]['productid'])\n",
    "        l2 = completed_df.columns\n",
    "        l3 = [value for value in l1 if value in l2] \n",
    "        if verbose: \n",
    "            print(user_id + ' : found ' + \"{:,}\".format(len(l3)) + ' common products')\n",
    "\n",
    "        if len(l3)==0:\n",
    "            output_df = pd.DataFrame()\n",
    "            return(output_df)\n",
    "        \n",
    "        # get 2013 dataframe of common products\n",
    "        common_products = completed_df[completed_df.index==user_id][l3].transpose().reset_index()\n",
    "        common_products.columns = ['productid','predicted_rating']\n",
    "        common_products.loc[:,'reviewerid'] = user_id\n",
    "        \n",
    "        # combine 2013 ratings with non-2013 ratings\n",
    "        output_df = df_not_13.merge(common_products, how = 'inner', on = ['productid','reviewerid'])\n",
    "        output_df.loc[:,'rating_diff'] = output_df.rating-output_df.predicted_rating\n",
    "    return(output_df)\n",
    "\n",
    "\n",
    "\n",
    "def get_rmse(df):\n",
    "    return((df.rating_diff ** 2).mean() ** .5)"
   ]
  },
  {
   "cell_type": "markdown",
   "metadata": {},
   "source": [
    "---"
   ]
  },
  {
   "cell_type": "markdown",
   "metadata": {},
   "source": [
    "# Variables"
   ]
  },
  {
   "cell_type": "code",
   "execution_count": 3,
   "metadata": {},
   "outputs": [],
   "source": [
    "category_name = 'baby'\n",
    "reviews_categoryname_loc = './data_out/databases/baby.h5'\n",
    "productid_mapping_loc = './data_in/dictionaries/product_baby_dict.txt'\n",
    "reviewerid_mapping_loc = './data_in/dictionaries/review_baby_dict.txt'\n",
    "completed_matrix_loc = \"./data_out/uvt/baby.pickle\"\n",
    "plot_path = './data_out/plots/'"
   ]
  },
  {
   "cell_type": "markdown",
   "metadata": {},
   "source": [
    "# Read Data"
   ]
  },
  {
   "cell_type": "markdown",
   "metadata": {},
   "source": [
    "Read the initial product, reviewer, ratings dataframe and segment the datasets into 2013 and non 2013 ratings. "
   ]
  },
  {
   "cell_type": "code",
   "execution_count": 4,
   "metadata": {},
   "outputs": [],
   "source": [
    "df = pd.read_hdf(reviews_categoryname_loc,key = 'df_reviews_categoryname')\n",
    "df.loc[:,'year'] = pd.to_datetime(df.timestamp, unit='s').apply(lambda x: x.year)\n",
    "df_not_13 = df.loc[df.year!=2013,['productid','reviewerid','rating']]\n",
    "df_13 = df.loc[df.year==2013,['productid','reviewerid','rating']]\n",
    "# df_13_pivoted = df_13.pivot(index='reviewerid', columns='productid',values='rating').reset_index()"
   ]
  },
  {
   "cell_type": "markdown",
   "metadata": {},
   "source": [
    "Read the dictionary mappings of each and row and column to their respective reviewer and products and join them with the completed 2013 ratings matrix "
   ]
  },
  {
   "cell_type": "code",
   "execution_count": 6,
   "metadata": {},
   "outputs": [],
   "source": [
    "df_productid_dict= pd.read_csv(productid_mapping_loc, header = None, sep = ' ')\n",
    "df_reviewerid_dict = pd.read_csv(reviewerid_mapping_loc, header = None, sep = ' ')\n",
    "product_ids = list(df_productid_dict[0])\n",
    "reviewer_ids = list(df_reviewerid_dict[0])"
   ]
  },
  {
   "cell_type": "code",
   "execution_count": 7,
   "metadata": {},
   "outputs": [
    {
     "data": {
      "text/html": [
       "<div>\n",
       "<style scoped>\n",
       "    .dataframe tbody tr th:only-of-type {\n",
       "        vertical-align: middle;\n",
       "    }\n",
       "\n",
       "    .dataframe tbody tr th {\n",
       "        vertical-align: top;\n",
       "    }\n",
       "\n",
       "    .dataframe thead th {\n",
       "        text-align: right;\n",
       "    }\n",
       "</style>\n",
       "<table border=\"1\" class=\"dataframe\">\n",
       "  <thead>\n",
       "    <tr style=\"text-align: right;\">\n",
       "      <th></th>\n",
       "      <th>097293751X</th>\n",
       "      <th>9729375011</th>\n",
       "      <th>B00000J3LL</th>\n",
       "      <th>B00002JV9S</th>\n",
       "      <th>B00002JXFI</th>\n",
       "      <th>B00003TKWE</th>\n",
       "      <th>B00003TL7P</th>\n",
       "      <th>B00003XAKP</th>\n",
       "      <th>B00003XAKR</th>\n",
       "      <th>B000046S3T</th>\n",
       "      <th>...</th>\n",
       "      <th>B00G34TJWM</th>\n",
       "      <th>B00G34TL48</th>\n",
       "      <th>B00G9F4MHW</th>\n",
       "      <th>B00GDKEM1E</th>\n",
       "      <th>B00GJVLOYA</th>\n",
       "      <th>B00GM35RFC</th>\n",
       "      <th>B00GMR18OM</th>\n",
       "      <th>B00JLHWDO4</th>\n",
       "      <th>B00JLI73ZM</th>\n",
       "      <th>B00L13XFIE</th>\n",
       "    </tr>\n",
       "  </thead>\n",
       "  <tbody>\n",
       "    <tr>\n",
       "      <th>A1HK2FQW6KXQB2</th>\n",
       "      <td>4.824898</td>\n",
       "      <td>5.151776</td>\n",
       "      <td>4.664307</td>\n",
       "      <td>3.848351</td>\n",
       "      <td>3.987420</td>\n",
       "      <td>5.535802</td>\n",
       "      <td>3.022793</td>\n",
       "      <td>4.115789</td>\n",
       "      <td>4.389855</td>\n",
       "      <td>3.450583</td>\n",
       "      <td>...</td>\n",
       "      <td>4.933279</td>\n",
       "      <td>3.262543</td>\n",
       "      <td>2.824329</td>\n",
       "      <td>3.652562</td>\n",
       "      <td>3.098044</td>\n",
       "      <td>4.082488</td>\n",
       "      <td>4.807960</td>\n",
       "      <td>4.858067</td>\n",
       "      <td>4.554644</td>\n",
       "      <td>4.851266</td>\n",
       "    </tr>\n",
       "    <tr>\n",
       "      <th>A19K65VY14D13R</th>\n",
       "      <td>5.004679</td>\n",
       "      <td>5.270271</td>\n",
       "      <td>4.979723</td>\n",
       "      <td>3.887238</td>\n",
       "      <td>4.241139</td>\n",
       "      <td>5.819614</td>\n",
       "      <td>2.993031</td>\n",
       "      <td>3.900176</td>\n",
       "      <td>4.596587</td>\n",
       "      <td>3.897115</td>\n",
       "      <td>...</td>\n",
       "      <td>5.007439</td>\n",
       "      <td>3.006089</td>\n",
       "      <td>2.467493</td>\n",
       "      <td>4.222363</td>\n",
       "      <td>3.570331</td>\n",
       "      <td>3.966366</td>\n",
       "      <td>5.021394</td>\n",
       "      <td>5.013075</td>\n",
       "      <td>4.455885</td>\n",
       "      <td>5.100979</td>\n",
       "    </tr>\n",
       "    <tr>\n",
       "      <th>A5G19RYX8599E</th>\n",
       "      <td>4.508044</td>\n",
       "      <td>4.268963</td>\n",
       "      <td>4.535805</td>\n",
       "      <td>4.361622</td>\n",
       "      <td>4.223241</td>\n",
       "      <td>4.865681</td>\n",
       "      <td>2.384701</td>\n",
       "      <td>3.151150</td>\n",
       "      <td>4.654269</td>\n",
       "      <td>2.625126</td>\n",
       "      <td>...</td>\n",
       "      <td>4.330157</td>\n",
       "      <td>2.299499</td>\n",
       "      <td>1.918338</td>\n",
       "      <td>3.011420</td>\n",
       "      <td>1.887220</td>\n",
       "      <td>3.505236</td>\n",
       "      <td>4.085035</td>\n",
       "      <td>3.692988</td>\n",
       "      <td>4.704817</td>\n",
       "      <td>4.380922</td>\n",
       "    </tr>\n",
       "    <tr>\n",
       "      <th>ATZDT4B1U7NL</th>\n",
       "      <td>4.155733</td>\n",
       "      <td>3.134349</td>\n",
       "      <td>4.361739</td>\n",
       "      <td>4.517297</td>\n",
       "      <td>3.205598</td>\n",
       "      <td>3.957374</td>\n",
       "      <td>1.685035</td>\n",
       "      <td>2.291572</td>\n",
       "      <td>3.850481</td>\n",
       "      <td>0.648274</td>\n",
       "      <td>...</td>\n",
       "      <td>4.201398</td>\n",
       "      <td>1.717778</td>\n",
       "      <td>2.476123</td>\n",
       "      <td>1.717536</td>\n",
       "      <td>1.082040</td>\n",
       "      <td>2.387293</td>\n",
       "      <td>3.339004</td>\n",
       "      <td>2.570243</td>\n",
       "      <td>3.927834</td>\n",
       "      <td>3.698386</td>\n",
       "    </tr>\n",
       "    <tr>\n",
       "      <th>A3NMPMELAZC8ZY</th>\n",
       "      <td>4.258142</td>\n",
       "      <td>4.098425</td>\n",
       "      <td>4.365347</td>\n",
       "      <td>3.942532</td>\n",
       "      <td>4.136455</td>\n",
       "      <td>4.736239</td>\n",
       "      <td>2.223900</td>\n",
       "      <td>2.793375</td>\n",
       "      <td>4.461510</td>\n",
       "      <td>2.977182</td>\n",
       "      <td>...</td>\n",
       "      <td>3.989722</td>\n",
       "      <td>1.957695</td>\n",
       "      <td>1.391355</td>\n",
       "      <td>3.335107</td>\n",
       "      <td>2.188724</td>\n",
       "      <td>3.219286</td>\n",
       "      <td>3.956529</td>\n",
       "      <td>3.608797</td>\n",
       "      <td>4.265052</td>\n",
       "      <td>4.241392</td>\n",
       "    </tr>\n",
       "  </tbody>\n",
       "</table>\n",
       "<p>5 rows × 6060 columns</p>\n",
       "</div>"
      ],
      "text/plain": [
       "                097293751X  9729375011  B00000J3LL  B00002JV9S  B00002JXFI  \\\n",
       "A1HK2FQW6KXQB2    4.824898    5.151776    4.664307    3.848351    3.987420   \n",
       "A19K65VY14D13R    5.004679    5.270271    4.979723    3.887238    4.241139   \n",
       "A5G19RYX8599E     4.508044    4.268963    4.535805    4.361622    4.223241   \n",
       "ATZDT4B1U7NL      4.155733    3.134349    4.361739    4.517297    3.205598   \n",
       "A3NMPMELAZC8ZY    4.258142    4.098425    4.365347    3.942532    4.136455   \n",
       "\n",
       "                B00003TKWE  B00003TL7P  B00003XAKP  B00003XAKR  B000046S3T  \\\n",
       "A1HK2FQW6KXQB2    5.535802    3.022793    4.115789    4.389855    3.450583   \n",
       "A19K65VY14D13R    5.819614    2.993031    3.900176    4.596587    3.897115   \n",
       "A5G19RYX8599E     4.865681    2.384701    3.151150    4.654269    2.625126   \n",
       "ATZDT4B1U7NL      3.957374    1.685035    2.291572    3.850481    0.648274   \n",
       "A3NMPMELAZC8ZY    4.736239    2.223900    2.793375    4.461510    2.977182   \n",
       "\n",
       "                   ...      B00G34TJWM  B00G34TL48  B00G9F4MHW  B00GDKEM1E  \\\n",
       "A1HK2FQW6KXQB2     ...        4.933279    3.262543    2.824329    3.652562   \n",
       "A19K65VY14D13R     ...        5.007439    3.006089    2.467493    4.222363   \n",
       "A5G19RYX8599E      ...        4.330157    2.299499    1.918338    3.011420   \n",
       "ATZDT4B1U7NL       ...        4.201398    1.717778    2.476123    1.717536   \n",
       "A3NMPMELAZC8ZY     ...        3.989722    1.957695    1.391355    3.335107   \n",
       "\n",
       "                B00GJVLOYA  B00GM35RFC  B00GMR18OM  B00JLHWDO4  B00JLI73ZM  \\\n",
       "A1HK2FQW6KXQB2    3.098044    4.082488    4.807960    4.858067    4.554644   \n",
       "A19K65VY14D13R    3.570331    3.966366    5.021394    5.013075    4.455885   \n",
       "A5G19RYX8599E     1.887220    3.505236    4.085035    3.692988    4.704817   \n",
       "ATZDT4B1U7NL      1.082040    2.387293    3.339004    2.570243    3.927834   \n",
       "A3NMPMELAZC8ZY    2.188724    3.219286    3.956529    3.608797    4.265052   \n",
       "\n",
       "                B00L13XFIE  \n",
       "A1HK2FQW6KXQB2    4.851266  \n",
       "A19K65VY14D13R    5.100979  \n",
       "A5G19RYX8599E     4.380922  \n",
       "ATZDT4B1U7NL      3.698386  \n",
       "A3NMPMELAZC8ZY    4.241392  \n",
       "\n",
       "[5 rows x 6060 columns]"
      ]
     },
     "execution_count": 7,
     "metadata": {},
     "output_type": "execute_result"
    }
   ],
   "source": [
    "completed_pickle_obj = open(completed_matrix_loc,'rb')\n",
    "completed_array = pickle.load(completed_pickle_obj)\n",
    "completed_df = pd.DataFrame(completed_array)\n",
    "\n",
    "completed_df.columns = product_ids\n",
    "completed_df.index = reviewer_ids\n",
    "completed_df.head()"
   ]
  },
  {
   "cell_type": "markdown",
   "metadata": {},
   "source": [
    "#### correct out of range predictions"
   ]
  },
  {
   "cell_type": "code",
   "execution_count": 10,
   "metadata": {},
   "outputs": [],
   "source": [
    "completed_df[(completed_df>5)]=5"
   ]
  },
  {
   "cell_type": "code",
   "execution_count": 11,
   "metadata": {},
   "outputs": [],
   "source": [
    "completed_df[(completed_df<1)]=1"
   ]
  },
  {
   "cell_type": "markdown",
   "metadata": {},
   "source": [
    "----"
   ]
  },
  {
   "cell_type": "markdown",
   "metadata": {},
   "source": [
    "# Analyze Data"
   ]
  },
  {
   "cell_type": "markdown",
   "metadata": {},
   "source": [
    "Find the top reviewers by number of products reviews outside training set i.e. outside 2013.\n",
    "That is our best bet for analyzing this data"
   ]
  },
  {
   "cell_type": "code",
   "execution_count": 14,
   "metadata": {},
   "outputs": [
    {
     "data": {
      "text/html": [
       "<div>\n",
       "<style scoped>\n",
       "    .dataframe tbody tr th:only-of-type {\n",
       "        vertical-align: middle;\n",
       "    }\n",
       "\n",
       "    .dataframe tbody tr th {\n",
       "        vertical-align: top;\n",
       "    }\n",
       "\n",
       "    .dataframe thead th {\n",
       "        text-align: right;\n",
       "    }\n",
       "</style>\n",
       "<table border=\"1\" class=\"dataframe\">\n",
       "  <thead>\n",
       "    <tr style=\"text-align: right;\">\n",
       "      <th></th>\n",
       "      <th>reviewerid</th>\n",
       "      <th>productid</th>\n",
       "    </tr>\n",
       "  </thead>\n",
       "  <tbody>\n",
       "    <tr>\n",
       "      <th>14297</th>\n",
       "      <td>AJGU56YG8G1DQ</td>\n",
       "      <td>89</td>\n",
       "    </tr>\n",
       "    <tr>\n",
       "      <th>13804</th>\n",
       "      <td>AF8SREA2XE7BJ</td>\n",
       "      <td>76</td>\n",
       "    </tr>\n",
       "    <tr>\n",
       "      <th>2647</th>\n",
       "      <td>A1M5ZT35YX6TIN</td>\n",
       "      <td>64</td>\n",
       "    </tr>\n",
       "  </tbody>\n",
       "</table>\n",
       "</div>"
      ],
      "text/plain": [
       "           reviewerid  productid\n",
       "14297   AJGU56YG8G1DQ         89\n",
       "13804   AF8SREA2XE7BJ         76\n",
       "2647   A1M5ZT35YX6TIN         64"
      ]
     },
     "execution_count": 14,
     "metadata": {},
     "output_type": "execute_result"
    }
   ],
   "source": [
    "user_and_productid_ratings = df_not_13.groupby('reviewerid', as_index=False).agg({'productid':'count'}).sort_values('productid', ascending = False)\n",
    "user_and_productid_ratings.head(3)"
   ]
  },
  {
   "cell_type": "markdown",
   "metadata": {},
   "source": [
    "_Most reviewers review fewer than 20 products in this data_"
   ]
  },
  {
   "cell_type": "code",
   "execution_count": 15,
   "metadata": {},
   "outputs": [
    {
     "data": {
      "text/plain": [
       "array([[<matplotlib.axes._subplots.AxesSubplot object at 0x1485cfe48>]],\n",
       "      dtype=object)"
      ]
     },
     "execution_count": 15,
     "metadata": {},
     "output_type": "execute_result"
    },
    {
     "data": {
      "image/png": "[encoded data removed]",
      "text/plain": [
       "<Figure size 432x288 with 1 Axes>"
      ]
     },
     "metadata": {
      "needs_background": "light"
     },
     "output_type": "display_data"
    }
   ],
   "source": [
    "user_and_productid_ratings.hist('productid', bins=18)"
   ]
  },
  {
   "cell_type": "code",
   "execution_count": 16,
   "metadata": {},
   "outputs": [
    {
     "name": "stderr",
     "output_type": "stream",
     "text": [
      "/Users/kanwal/miniconda3/envs/py3/lib/python3.6/site-packages/scipy/stats/stats.py:1713: FutureWarning: Using a non-tuple sequence for multidimensional indexing is deprecated; use `arr[tuple(seq)]` instead of `arr[seq]`. In the future this will be interpreted as an array index, `arr[np.array(seq)]`, which will result either in an error or a different result.\n",
      "  return np.add.reduce(sorted[indexer] * weights, axis=axis) / sumval\n"
     ]
    },
    {
     "data": {
      "text/plain": [
       "<matplotlib.axes._subplots.AxesSubplot at 0x1228d2160>"
      ]
     },
     "execution_count": 16,
     "metadata": {},
     "output_type": "execute_result"
    },
    {
     "data": {
      "image/png": "[encoded data removed]",
      "text/plain": [
       "<Figure size 432x288 with 1 Axes>"
      ]
     },
     "metadata": {
      "needs_background": "light"
     },
     "output_type": "display_data"
    }
   ],
   "source": [
    "sns.distplot(user_and_productid_ratings['productid'], hist=True, kde=True)"
   ]
  },
  {
   "cell_type": "markdown",
   "metadata": {},
   "source": [
    "# Analyze the data - Aggregate"
   ]
  },
  {
   "cell_type": "markdown",
   "metadata": {},
   "source": [
    "1a) Get all reviewers who have rated 5 or more products outside 2013 and reviewed some product in 2013"
   ]
  },
  {
   "cell_type": "code",
   "execution_count": 17,
   "metadata": {},
   "outputs": [
    {
     "name": "stdout",
     "output_type": "stream",
     "text": [
      "3,810 - num of common reviewers\n"
     ]
    }
   ],
   "source": [
    "# reviewers who rated 5 or more products outside 2013\n",
    "greater_than_five_reviews = user_and_productid_ratings[user_and_productid_ratings.productid>=5]\n",
    "hyper_reviewers = list(greater_than_five_reviews.reviewerid)\n",
    "\n",
    "# reviewers present in 2013 already calculated earlier and stored: reviewer_ids\n",
    "\n",
    "# find common reviewers\n",
    "common_reviewers_list = [value for value in reviewer_ids if value in hyper_reviewers] \n",
    "\n",
    "print(\"{:,}\".format(len(common_reviewers_list)) + ' - num of common reviewers')"
   ]
  },
  {
   "cell_type": "markdown",
   "metadata": {},
   "source": [
    "1b) consolidate all reviewers ratings into a single dataframe"
   ]
  },
  {
   "cell_type": "code",
   "execution_count": 18,
   "metadata": {},
   "outputs": [],
   "source": [
    "consolidated_ratings_comparison = pd.DataFrame()\n",
    "for reviewerid_value in common_reviewers_list:\n",
    "    user_ratings_comparison = get_comparison_ratings_for_user(completed_df,df_not_13, reviewerid_value, verbose = False)\n",
    "    consolidated_ratings_comparison = consolidated_ratings_comparison.append(user_ratings_comparison)"
   ]
  },
  {
   "cell_type": "code",
   "execution_count": 189,
   "metadata": {},
   "outputs": [
    {
     "data": {
      "text/html": [
       "<div>\n",
       "<style scoped>\n",
       "    .dataframe tbody tr th:only-of-type {\n",
       "        vertical-align: middle;\n",
       "    }\n",
       "\n",
       "    .dataframe tbody tr th {\n",
       "        vertical-align: top;\n",
       "    }\n",
       "\n",
       "    .dataframe thead th {\n",
       "        text-align: right;\n",
       "    }\n",
       "</style>\n",
       "<table border=\"1\" class=\"dataframe\">\n",
       "  <thead>\n",
       "    <tr style=\"text-align: right;\">\n",
       "      <th></th>\n",
       "      <th>productid</th>\n",
       "      <th>reviewerid</th>\n",
       "      <th>rating</th>\n",
       "      <th>predicted_rating</th>\n",
       "      <th>rating_diff</th>\n",
       "    </tr>\n",
       "  </thead>\n",
       "  <tbody>\n",
       "    <tr>\n",
       "      <th>0</th>\n",
       "      <td>B00BM3VSYQ</td>\n",
       "      <td>A2Q2A6JKY95RTP</td>\n",
       "      <td>4.0</td>\n",
       "      <td>3.558381</td>\n",
       "      <td>0.441619</td>\n",
       "    </tr>\n",
       "    <tr>\n",
       "      <th>1</th>\n",
       "      <td>B00D4LFC2S</td>\n",
       "      <td>A2Q2A6JKY95RTP</td>\n",
       "      <td>5.0</td>\n",
       "      <td>4.244512</td>\n",
       "      <td>0.755488</td>\n",
       "    </tr>\n",
       "  </tbody>\n",
       "</table>\n",
       "</div>"
      ],
      "text/plain": [
       "    productid      reviewerid  rating  predicted_rating  rating_diff\n",
       "0  B00BM3VSYQ  A2Q2A6JKY95RTP     4.0          3.558381     0.441619\n",
       "1  B00D4LFC2S  A2Q2A6JKY95RTP     5.0          4.244512     0.755488"
      ]
     },
     "execution_count": 189,
     "metadata": {},
     "output_type": "execute_result"
    }
   ],
   "source": [
    "consolidated_ratings_comparison.head(2)"
   ]
  },
  {
   "cell_type": "markdown",
   "metadata": {},
   "source": [
    "2) calculate average product ratings and calculate the difference between average and predicted"
   ]
  },
  {
   "cell_type": "code",
   "execution_count": 22,
   "metadata": {},
   "outputs": [],
   "source": [
    "average_ratings_products = consolidated_ratings_comparison.groupby('productid', as_index=False).agg({'rating':'mean','predicted_rating':'mean'})\n",
    "average_ratings_products.columns = ['productid','actual_ratings_mean_by_product','predicted_ratings_mean_by_product']\n",
    "average_ratings_products.loc[:,'prediction_error_ratings_mean_by_product'] = average_ratings_products.actual_ratings_mean_by_product - average_ratings_products.predicted_ratings_mean_by_product"
   ]
  },
  {
   "cell_type": "code",
   "execution_count": 83,
   "metadata": {},
   "outputs": [],
   "source": [
    "average_ratings_users = consolidated_ratings_comparison.groupby('reviewerid', as_index=False).agg({'rating':'mean','predicted_rating':'mean'})\n",
    "average_ratings_users.columns = ['reviewerid','actual_ratings_mean_by_user','predicted_ratings_mean_by_user']\n",
    "average_ratings_users.loc[:,'prediction_error_ratings_mean_by_user'] = average_ratings_users.actual_ratings_mean_by_user - average_ratings_users.predicted_ratings_mean_by_user"
   ]
  },
  {
   "cell_type": "markdown",
   "metadata": {},
   "source": [
    "3) combine the product ratings means with user ratings"
   ]
  },
  {
   "cell_type": "code",
   "execution_count": 86,
   "metadata": {},
   "outputs": [
    {
     "name": "stdout",
     "output_type": "stream",
     "text": [
      "5294\n",
      "(31027, 8)\n",
      "(31027, 5)\n",
      "3807\n",
      "(31027, 11)\n"
     ]
    }
   ],
   "source": [
    "consolidated_ratings_comparison_with_mean_product_ratings = consolidated_ratings_comparison.merge(average_ratings_products, how='inner', on = 'productid')\n",
    "print(len(consolidated_ratings_comparison_with_mean_product_ratings.productid.unique()))\n",
    "print(consolidated_ratings_comparison_with_mean_product_ratings.shape)\n",
    "print(consolidated_ratings_comparison.shape)\n",
    "\n",
    "\n",
    "consolidated_ratings_comparison_with_mean_product_ratings = consolidated_ratings_comparison_with_mean_product_ratings.merge(average_ratings_users, how = 'inner', on = 'reviewerid')\n",
    "print(len(consolidated_ratings_comparison_with_mean_product_ratings.reviewerid.unique()))\n",
    "print(consolidated_ratings_comparison_with_mean_product_ratings.shape)\n",
    "# print(consolidated_ratings_comparison_with_mean_product_ratings.shape)"
   ]
  },
  {
   "cell_type": "markdown",
   "metadata": {},
   "source": [
    "4) Add the matrix mean of ratings"
   ]
  },
  {
   "cell_type": "code",
   "execution_count": 197,
   "metadata": {},
   "outputs": [],
   "source": [
    "consolidated_ratings_comparison_with_mean_product_ratings.loc[:,'matrix_mean'] = consolidated_ratings_comparison['rating'].mean()\n",
    "consolidated_ratings_comparison_with_mean_product_ratings.loc[:,'predicted_rating-matrix_mean'] = consolidated_ratings_comparison_with_mean_product_ratings['predicted_rating'] - consolidated_ratings_comparison_with_mean_product_ratings['matrix_mean']\n",
    "consolidated_ratings_comparison_with_mean_product_ratings.loc[:,'predicted_rating-predicted_ratings_mean_by_product'] = consolidated_ratings_comparison_with_mean_product_ratings['predicted_rating'] - consolidated_ratings_comparison_with_mean_product_ratings['predicted_ratings_mean_by_product']\n",
    "consolidated_ratings_comparison_with_mean_product_ratings.loc[:,'predicted_rating-predicted_ratings_mean_by_user'] = consolidated_ratings_comparison_with_mean_product_ratings['predicted_rating'] - consolidated_ratings_comparison_with_mean_product_ratings['predicted_ratings_mean_by_user']\n",
    "consolidated_ratings_comparison_with_mean_product_ratings.loc[:,'predicted_rating-actual_ratings_mean_by_product'] = consolidated_ratings_comparison_with_mean_product_ratings['predicted_rating'] - consolidated_ratings_comparison_with_mean_product_ratings['actual_ratings_mean_by_product']\n",
    "\n",
    "consolidated_ratings_comparison_with_mean_product_ratings.loc[:,'predicted_rating-actual_ratings_mean_by_user'] = consolidated_ratings_comparison_with_mean_product_ratings['predicted_rating'] - consolidated_ratings_comparison_with_mean_product_ratings['actual_ratings_mean_by_user']\n",
    "consolidated_ratings_comparison_with_mean_product_ratings.loc[:,'actual_rating-matrix_mean'] = consolidated_ratings_comparison_with_mean_product_ratings['rating'] - consolidated_ratings_comparison_with_mean_product_ratings['matrix_mean']\n",
    "consolidated_ratings_comparison_with_mean_product_ratings.loc[:,'actual_rating-actual_ratings_mean_by_product'] = consolidated_ratings_comparison_with_mean_product_ratings['rating'] - consolidated_ratings_comparison_with_mean_product_ratings['actual_ratings_mean_by_product']\n",
    "consolidated_ratings_comparison_with_mean_product_ratings.loc[:,'actual_rating-actual_ratings_mean_by_user'] = consolidated_ratings_comparison_with_mean_product_ratings['rating'] - consolidated_ratings_comparison_with_mean_product_ratings['actual_ratings_mean_by_user']\n"
   ]
  },
  {
   "cell_type": "code",
   "execution_count": 88,
   "metadata": {},
   "outputs": [
    {
     "data": {
      "text/html": [
       "<div>\n",
       "<style scoped>\n",
       "    .dataframe tbody tr th:only-of-type {\n",
       "        vertical-align: middle;\n",
       "    }\n",
       "\n",
       "    .dataframe tbody tr th {\n",
       "        vertical-align: top;\n",
       "    }\n",
       "\n",
       "    .dataframe thead th {\n",
       "        text-align: right;\n",
       "    }\n",
       "</style>\n",
       "<table border=\"1\" class=\"dataframe\">\n",
       "  <thead>\n",
       "    <tr style=\"text-align: right;\">\n",
       "      <th></th>\n",
       "      <th>productid</th>\n",
       "      <th>reviewerid</th>\n",
       "      <th>rating</th>\n",
       "      <th>predicted_rating</th>\n",
       "      <th>rating_diff</th>\n",
       "      <th>actual_ratings_mean_by_product</th>\n",
       "      <th>predicted_ratings_mean_by_product</th>\n",
       "      <th>prediction_error_ratings_mean_by_product</th>\n",
       "      <th>actual_ratings_mean_by_user</th>\n",
       "      <th>predicted_ratings_mean_by_user</th>\n",
       "      <th>prediction_error_ratings_mean_by_user</th>\n",
       "      <th>matrix_mean</th>\n",
       "      <th>predicted_rating-matrix_mean</th>\n",
       "      <th>predicted_rating-predicted_ratings_mean_by_product</th>\n",
       "      <th>actual_rating-matrix_mean</th>\n",
       "      <th>actual_rating-actual_ratings_mean_by_product</th>\n",
       "    </tr>\n",
       "  </thead>\n",
       "  <tbody>\n",
       "    <tr>\n",
       "      <th>0</th>\n",
       "      <td>B00BM3VSYQ</td>\n",
       "      <td>A2Q2A6JKY95RTP</td>\n",
       "      <td>4.0</td>\n",
       "      <td>3.558381</td>\n",
       "      <td>0.441619</td>\n",
       "      <td>4.000000</td>\n",
       "      <td>3.967878</td>\n",
       "      <td>0.032122</td>\n",
       "      <td>4.666667</td>\n",
       "      <td>4.126695</td>\n",
       "      <td>0.539971</td>\n",
       "      <td>4.184452</td>\n",
       "      <td>-0.626071</td>\n",
       "      <td>-0.409497</td>\n",
       "      <td>-0.184452</td>\n",
       "      <td>0.000000</td>\n",
       "    </tr>\n",
       "    <tr>\n",
       "      <th>1</th>\n",
       "      <td>B00D4LFC2S</td>\n",
       "      <td>A2Q2A6JKY95RTP</td>\n",
       "      <td>5.0</td>\n",
       "      <td>4.244512</td>\n",
       "      <td>0.755488</td>\n",
       "      <td>4.785714</td>\n",
       "      <td>4.097818</td>\n",
       "      <td>0.687897</td>\n",
       "      <td>4.666667</td>\n",
       "      <td>4.126695</td>\n",
       "      <td>0.539971</td>\n",
       "      <td>4.184452</td>\n",
       "      <td>0.060060</td>\n",
       "      <td>0.146694</td>\n",
       "      <td>0.815548</td>\n",
       "      <td>0.214286</td>\n",
       "    </tr>\n",
       "    <tr>\n",
       "      <th>2</th>\n",
       "      <td>B00EU5AHK4</td>\n",
       "      <td>A2Q2A6JKY95RTP</td>\n",
       "      <td>5.0</td>\n",
       "      <td>4.577193</td>\n",
       "      <td>0.422807</td>\n",
       "      <td>4.272727</td>\n",
       "      <td>4.895889</td>\n",
       "      <td>-0.623162</td>\n",
       "      <td>4.666667</td>\n",
       "      <td>4.126695</td>\n",
       "      <td>0.539971</td>\n",
       "      <td>4.184452</td>\n",
       "      <td>0.392741</td>\n",
       "      <td>-0.318696</td>\n",
       "      <td>0.815548</td>\n",
       "      <td>0.727273</td>\n",
       "    </tr>\n",
       "    <tr>\n",
       "      <th>3</th>\n",
       "      <td>B00BM3VSYQ</td>\n",
       "      <td>A10ZBR6O8S8OCY</td>\n",
       "      <td>3.0</td>\n",
       "      <td>3.878962</td>\n",
       "      <td>-0.878962</td>\n",
       "      <td>4.000000</td>\n",
       "      <td>3.967878</td>\n",
       "      <td>0.032122</td>\n",
       "      <td>4.285714</td>\n",
       "      <td>3.823513</td>\n",
       "      <td>0.462201</td>\n",
       "      <td>4.184452</td>\n",
       "      <td>-0.305490</td>\n",
       "      <td>-0.088916</td>\n",
       "      <td>-1.184452</td>\n",
       "      <td>-1.000000</td>\n",
       "    </tr>\n",
       "    <tr>\n",
       "      <th>4</th>\n",
       "      <td>B0083BQ0EI</td>\n",
       "      <td>A10ZBR6O8S8OCY</td>\n",
       "      <td>5.0</td>\n",
       "      <td>3.858312</td>\n",
       "      <td>1.141688</td>\n",
       "      <td>4.333333</td>\n",
       "      <td>3.375108</td>\n",
       "      <td>0.958225</td>\n",
       "      <td>4.285714</td>\n",
       "      <td>3.823513</td>\n",
       "      <td>0.462201</td>\n",
       "      <td>4.184452</td>\n",
       "      <td>-0.326140</td>\n",
       "      <td>0.483204</td>\n",
       "      <td>0.815548</td>\n",
       "      <td>0.666667</td>\n",
       "    </tr>\n",
       "  </tbody>\n",
       "</table>\n",
       "</div>"
      ],
      "text/plain": [
       "    productid      reviewerid  rating  predicted_rating  rating_diff  \\\n",
       "0  B00BM3VSYQ  A2Q2A6JKY95RTP     4.0          3.558381     0.441619   \n",
       "1  B00D4LFC2S  A2Q2A6JKY95RTP     5.0          4.244512     0.755488   \n",
       "2  B00EU5AHK4  A2Q2A6JKY95RTP     5.0          4.577193     0.422807   \n",
       "3  B00BM3VSYQ  A10ZBR6O8S8OCY     3.0          3.878962    -0.878962   \n",
       "4  B0083BQ0EI  A10ZBR6O8S8OCY     5.0          3.858312     1.141688   \n",
       "\n",
       "   actual_ratings_mean_by_product  predicted_ratings_mean_by_product  \\\n",
       "0                        4.000000                           3.967878   \n",
       "1                        4.785714                           4.097818   \n",
       "2                        4.272727                           4.895889   \n",
       "3                        4.000000                           3.967878   \n",
       "4                        4.333333                           3.375108   \n",
       "\n",
       "   prediction_error_ratings_mean_by_product  actual_ratings_mean_by_user  \\\n",
       "0                                  0.032122                     4.666667   \n",
       "1                                  0.687897                     4.666667   \n",
       "2                                 -0.623162                     4.666667   \n",
       "3                                  0.032122                     4.285714   \n",
       "4                                  0.958225                     4.285714   \n",
       "\n",
       "   predicted_ratings_mean_by_user  prediction_error_ratings_mean_by_user  \\\n",
       "0                        4.126695                               0.539971   \n",
       "1                        4.126695                               0.539971   \n",
       "2                        4.126695                               0.539971   \n",
       "3                        3.823513                               0.462201   \n",
       "4                        3.823513                               0.462201   \n",
       "\n",
       "   matrix_mean  predicted_rating-matrix_mean  \\\n",
       "0     4.184452                     -0.626071   \n",
       "1     4.184452                      0.060060   \n",
       "2     4.184452                      0.392741   \n",
       "3     4.184452                     -0.305490   \n",
       "4     4.184452                     -0.326140   \n",
       "\n",
       "   predicted_rating-predicted_ratings_mean_by_product  \\\n",
       "0                                          -0.409497    \n",
       "1                                           0.146694    \n",
       "2                                          -0.318696    \n",
       "3                                          -0.088916    \n",
       "4                                           0.483204    \n",
       "\n",
       "   actual_rating-matrix_mean  actual_rating-actual_ratings_mean_by_product  \n",
       "0                  -0.184452                                      0.000000  \n",
       "1                   0.815548                                      0.214286  \n",
       "2                   0.815548                                      0.727273  \n",
       "3                  -1.184452                                     -1.000000  \n",
       "4                   0.815548                                      0.666667  "
      ]
     },
     "execution_count": 88,
     "metadata": {},
     "output_type": "execute_result"
    }
   ],
   "source": [
    "consolidated_ratings_comparison_with_mean_product_ratings.head()"
   ]
  },
  {
   "cell_type": "markdown",
   "metadata": {},
   "source": [
    "# PERFORMANCE MEASURES"
   ]
  },
  {
   "cell_type": "markdown",
   "metadata": {},
   "source": [
    "## OVERALL PERFORMANCE"
   ]
  },
  {
   "cell_type": "code",
   "execution_count": 190,
   "metadata": {},
   "outputs": [
    {
     "name": "stderr",
     "output_type": "stream",
     "text": [
      "/Users/kanwal/miniconda3/envs/py3/lib/python3.6/site-packages/scipy/stats/stats.py:1713: FutureWarning: Using a non-tuple sequence for multidimensional indexing is deprecated; use `arr[tuple(seq)]` instead of `arr[seq]`. In the future this will be interpreted as an array index, `arr[np.array(seq)]`, which will result either in an error or a different result.\n",
      "  return np.add.reduce(sorted[indexer] * weights, axis=axis) / sumval\n"
     ]
    },
    {
     "data": {
      "image/png": "[encoded data removed]",
      "text/plain": [
       "<Figure size 432x288 with 1 Axes>"
      ]
     },
     "metadata": {
      "needs_background": "light"
     },
     "output_type": "display_data"
    }
   ],
   "source": [
    "sns.distplot(consolidated_ratings_comparison_with_mean_product_ratings['rating_diff'], hist=True, kde=True, \n",
    "             bins=8, color = 'blue',\n",
    "             hist_kws={'edgecolor':'black'})\n",
    "\n",
    "plt.title('Error in user level ratings')\n",
    "plt.xlabel('error')\n",
    "plt.ylabel('density')\n",
    "\n",
    "plt.savefig('./data_out/plots/' + category_name + '_density_user_level_ratings_error.pdf')"
   ]
  },
  {
   "cell_type": "code",
   "execution_count": 52,
   "metadata": {},
   "outputs": [
    {
     "data": {
      "image/png": "[encoded data removed]",
      "text/plain": [
       "<Figure size 432x288 with 1 Axes>"
      ]
     },
     "metadata": {
      "needs_background": "light"
     },
     "output_type": "display_data"
    }
   ],
   "source": [
    "# where are the biggest jumps (if around 0, we are good)\n",
    "consolidated_ratings_comparison.hist( 'rating_diff',cumulative = True )\n",
    "plt.savefig('./data_out/plots/' + category_name + '_cumulative_user_level_ratings_diff.pdf')"
   ]
  },
  {
   "cell_type": "code",
   "execution_count": 192,
   "metadata": {},
   "outputs": [
    {
     "name": "stdout",
     "output_type": "stream",
     "text": [
      "mean of ratings errors: 0.7\n",
      "median ratings errors: 0.7\n",
      "RMSE : 1.60\n"
     ]
    }
   ],
   "source": [
    "series_ = consolidated_ratings_comparison.rating_diff\n",
    "print('mean of ratings errors: ' + \"{:.1f}\".format(np.mean(series_),1))\n",
    "print('median ratings errors: ' + \"{:.1f}\".format(np.median(series_),1))\n",
    "print('RMSE : ' + \"{:.2f}\".format(((series_ ** 2).mean() ** .5)))"
   ]
  },
  {
   "cell_type": "markdown",
   "metadata": {},
   "source": [
    "## PREDICTIONS RELATIVE TO AVERAGE PRODUCT RATINGS"
   ]
  },
  {
   "cell_type": "markdown",
   "metadata": {},
   "source": [
    "#### Is our product level prediction actually accurate?\n",
    "\n",
    "_Compare: average product rating with averate predicted product rating_\n",
    "_ if we are centred around 0, we are pretty good_"
   ]
  },
  {
   "cell_type": "code",
   "execution_count": 203,
   "metadata": {},
   "outputs": [
    {
     "name": "stdout",
     "output_type": "stream",
     "text": [
      "mean of product level ratings errors: -0.7\n",
      "median of product level ratings errors: -0.6\n",
      "RMSE : 1.33\n"
     ]
    }
   ],
   "source": [
    "# Difference from the mean product ratings\n",
    "series_ = consolidated_ratings_comparison_with_mean_product_ratings['predicted_rating-actual_ratings_mean_by_product']\n",
    "print('mean of product level ratings errors: ' + \"{:.1f}\".format(np.mean(series_),1))\n",
    "print('median of product level ratings errors: ' + \"{:.1f}\".format(np.median(series_),1))\n",
    "print('RMSE : ' + \"{:.2f}\".format(((series_ ** 2).mean() ** .5)))"
   ]
  },
  {
   "cell_type": "code",
   "execution_count": 170,
   "metadata": {},
   "outputs": [],
   "source": [
    "average_ratings_products.loc[:,'predicted_ratings_mean_by_product_rounded']=np.ceil(average_ratings_products.predicted_ratings_mean_by_product)\n",
    "average_ratings_products.loc[:,'actual_ratings_mean_by_product_rounded']=np.ceil(average_ratings_products.actual_ratings_mean_by_product)"
   ]
  },
  {
   "cell_type": "markdown",
   "metadata": {},
   "source": [
    "## PERFORMANCE OF PRODUCTS WITH DIFFERENT RATINGS"
   ]
  },
  {
   "cell_type": "code",
   "execution_count": 221,
   "metadata": {},
   "outputs": [
    {
     "data": {
      "text/plain": [
       "<matplotlib.axes._subplots.AxesSubplot at 0x124677208>"
      ]
     },
     "execution_count": 221,
     "metadata": {},
     "output_type": "execute_result"
    },
    {
     "data": {
      "image/png": "[encoded data removed]",
      "text/plain": [
       "<Figure size 432x288 with 1 Axes>"
      ]
     },
     "metadata": {
      "needs_background": "light"
     },
     "output_type": "display_data"
    }
   ],
   "source": [
    "consolidated_ratings_comparison_with_mean_product_ratings.loc[:,'predicted_rating_rounded']=np.ceil(consolidated_ratings_comparison_with_mean_product_ratings.predicted_rating)\n",
    "average_ratings_products_correct = consolidated_ratings_comparison_with_mean_product_ratings[consolidated_ratings_comparison_with_mean_product_ratings.rating==consolidated_ratings_comparison_with_mean_product_ratings.predicted_rating_rounded]\n",
    "out = average_ratings_products_correct.groupby('rating', as_index=False).agg({'predicted_rating_rounded':['count']})\n",
    "out.columns = ['actual_ratings','correct_counts']\n",
    "out_denominator = consolidated_ratings_comparison_with_mean_product_ratings.groupby('rating', as_index=False).agg({'predicted_rating_rounded':['count']})\n",
    "out_denominator.columns = ['actual_ratings','denominator_counts']\n",
    "# \n",
    "out_consolidated = out.merge(out_denominator, how = 'inner', on = 'actual_ratings')\n",
    "out_consolidated.loc[:,'ratio'] = np.round(100.0*out_consolidated.correct_counts/out_consolidated.denominator_counts)\n",
    "\n",
    "out_consolidated.plot(kind='bar',x='actual_ratings',y='ratio')"
   ]
  },
  {
   "cell_type": "code",
   "execution_count": 222,
   "metadata": {},
   "outputs": [],
   "source": [
    "average_ratings_products_correct = average_ratings_products[average_ratings_products.actual_ratings_mean_by_product_rounded==average_ratings_products.predicted_ratings_mean_by_product_rounded]\n",
    "out = average_ratings_products_correct.groupby('actual_ratings_mean_by_product_rounded', as_index=False).agg({'predicted_ratings_mean_by_product':['count']})\n",
    "out.columns = ['actual_ratings','correct_counts']\n",
    "out_denominator = average_ratings_products.groupby('actual_ratings_mean_by_product_rounded', as_index=False).agg({'predicted_ratings_mean_by_product':['count']})\n",
    "out_denominator.columns = ['actual_ratings','denominator_counts']\n",
    "# \n",
    "out_consolidated = out.merge(out_denominator, how = 'inner', on = 'actual_ratings')\n",
    "out_consolidated.loc[:,'ratio'] = np.round(100.0*out_consolidated.correct_counts/out_consolidated.denominator_counts)"
   ]
  },
  {
   "cell_type": "code",
   "execution_count": 223,
   "metadata": {},
   "outputs": [
    {
     "data": {
      "text/plain": [
       "<matplotlib.axes._subplots.AxesSubplot at 0x127fd8b38>"
      ]
     },
     "execution_count": 223,
     "metadata": {},
     "output_type": "execute_result"
    },
    {
     "data": {
      "image/png": "[encoded data removed]",
      "text/plain": [
       "<Figure size 432x288 with 1 Axes>"
      ]
     },
     "metadata": {
      "needs_background": "light"
     },
     "output_type": "display_data"
    }
   ],
   "source": [
    "out_consolidated.plot(kind='bar',x='actual_ratings',y='ratio')"
   ]
  },
  {
   "cell_type": "code",
   "execution_count": 179,
   "metadata": {},
   "outputs": [
    {
     "data": {
      "text/plain": [
       "<matplotlib.axes._subplots.AxesSubplot at 0x1227f4a20>"
      ]
     },
     "execution_count": 179,
     "metadata": {},
     "output_type": "execute_result"
    },
    {
     "data": {
      "image/png": "[encoded data removed]",
      "text/plain": [
       "<Figure size 432x288 with 1 Axes>"
      ]
     },
     "metadata": {
      "needs_background": "light"
     },
     "output_type": "display_data"
    }
   ],
   "source": [
    "out_consolidated.plot(kind='bar',x='actual_ratings',y='denominator_counts')"
   ]
  },
  {
   "cell_type": "code",
   "execution_count": 181,
   "metadata": {},
   "outputs": [
    {
     "data": {
      "text/plain": [
       "<matplotlib.axes._subplots.AxesSubplot at 0x1228034e0>"
      ]
     },
     "execution_count": 181,
     "metadata": {},
     "output_type": "execute_result"
    },
    {
     "data": {
      "image/png": "[encoded data removed]",
      "text/plain": [
       "<Figure size 432x288 with 1 Axes>"
      ]
     },
     "metadata": {
      "needs_background": "light"
     },
     "output_type": "display_data"
    }
   ],
   "source": [
    "out_consolidated.plot(kind='bar',x='correct_counts',y='denominator_counts')"
   ]
  },
  {
   "cell_type": "markdown",
   "metadata": {},
   "source": [
    "## PERFORMANCE RELATIVE TO MATRIX MEAN"
   ]
  },
  {
   "cell_type": "markdown",
   "metadata": {},
   "source": [
    "Are we significantly different from matrix mean? Are individuals' ratings significantly different?"
   ]
  },
  {
   "cell_type": "code",
   "execution_count": 180,
   "metadata": {},
   "outputs": [
    {
     "data": {
      "text/plain": [
       "4.184452251265027"
      ]
     },
     "execution_count": 180,
     "metadata": {},
     "output_type": "execute_result"
    }
   ],
   "source": [
    "consolidated_ratings_comparison['rating'].mean()"
   ]
  },
  {
   "cell_type": "code",
   "execution_count": 224,
   "metadata": {},
   "outputs": [
    {
     "name": "stderr",
     "output_type": "stream",
     "text": [
      "/Users/kanwal/miniconda3/envs/py3/lib/python3.6/site-packages/scipy/stats/stats.py:1713: FutureWarning: Using a non-tuple sequence for multidimensional indexing is deprecated; use `arr[tuple(seq)]` instead of `arr[seq]`. In the future this will be interpreted as an array index, `arr[np.array(seq)]`, which will result either in an error or a different result.\n",
      "  return np.add.reduce(sorted[indexer] * weights, axis=axis) / sumval\n"
     ]
    },
    {
     "data": {
      "image/png": "[encoded data removed]",
      "text/plain": [
       "<Figure size 432x288 with 1 Axes>"
      ]
     },
     "metadata": {
      "needs_background": "light"
     },
     "output_type": "display_data"
    }
   ],
   "source": [
    "sns.distplot(consolidated_ratings_comparison_with_mean_product_ratings['predicted_rating-matrix_mean'], hist = False, kde=True, kde_kws = {'shade': True, 'linewidth': 3, 'color':'blue' })\n",
    "sns.distplot(consolidated_ratings_comparison_with_mean_product_ratings['actual_rating-matrix_mean'], hist = False, kde=True, kde_kws = {'shade': True, 'linewidth': 3, 'color':'red'})\n",
    "\n",
    "plt.title('Comparison of ratings error of user ratings vs matrix mean - for predicted (blue) and actual(red)')\n",
    "plt.xlabel('error')\n",
    "plt.ylabel('density')\n",
    "\n",
    "\n",
    "plt.savefig('./data_out/plots/' + category_name + '_ratings_significantly_different_from_matrix_mean.pdf')"
   ]
  },
  {
   "cell_type": "code",
   "execution_count": 105,
   "metadata": {},
   "outputs": [
    {
     "name": "stdout",
     "output_type": "stream",
     "text": [
      "mean of actual rating - matrix mean: 0.0\n",
      "median of actual rating - matrix mean: 0.8\n",
      "RMSE : 1.15\n"
     ]
    }
   ],
   "source": [
    "# average_ratings_products.hist(column='prediction_error_ratings_mean_by_product', bins = 8)\n",
    "series_ = consolidated_ratings_comparison_with_mean_product_ratings['actual_rating-matrix_mean']\n",
    "print('mean of actual rating - matrix mean: ' + \"{:.1f}\".format(np.mean(series_),1))\n",
    "print('median of actual rating - matrix mean: ' + \"{:.1f}\".format(np.median(series_),1))\n",
    "print('RMSE : ' + \"{:.2f}\".format(((series_ ** 2).mean() ** .5)))"
   ]
  },
  {
   "cell_type": "code",
   "execution_count": 102,
   "metadata": {},
   "outputs": [
    {
     "name": "stdout",
     "output_type": "stream",
     "text": [
      "mean of predicted rating - matrix mean: -0.7\n",
      "median of predicted rating - matrix mean: -0.5\n",
      "RMSE : 1.30\n"
     ]
    }
   ],
   "source": [
    "# average_ratings_products.hist(column='prediction_error_ratings_mean_by_product', bins = 8)\n",
    "series_ = consolidated_ratings_comparison_with_mean_product_ratings['predicted_rating-matrix_mean']\n",
    "print('mean of predicted rating - matrix mean: ' + \"{:.1f}\".format(np.mean(series_),1))\n",
    "print('median of predicted rating - matrix mean: ' + \"{:.1f}\".format(np.median(series_),1))\n",
    "print('RMSE : ' + \"{:.2f}\".format(((series_ ** 2).mean() ** .5)))"
   ]
  },
  {
   "cell_type": "markdown",
   "metadata": {},
   "source": [
    "## PERFORMANCE RELATIVE TO PRODUCT MEANS"
   ]
  },
  {
   "cell_type": "markdown",
   "metadata": {},
   "source": [
    "We want to see the difference between user level predicted ratings and the  average product predicted ratings.\n",
    "We also want to compare that distribution to the difference between actual ratings and the average product ratings. \n",
    "\n",
    "Turns out they are not so different. \n",
    "The chart below shows that products rated by individuals are closer to the average product ratings. Our predictions follow a similar trend"
   ]
  },
  {
   "cell_type": "code",
   "execution_count": 225,
   "metadata": {},
   "outputs": [
    {
     "name": "stderr",
     "output_type": "stream",
     "text": [
      "/Users/kanwal/miniconda3/envs/py3/lib/python3.6/site-packages/scipy/stats/stats.py:1713: FutureWarning: Using a non-tuple sequence for multidimensional indexing is deprecated; use `arr[tuple(seq)]` instead of `arr[seq]`. In the future this will be interpreted as an array index, `arr[np.array(seq)]`, which will result either in an error or a different result.\n",
      "  return np.add.reduce(sorted[indexer] * weights, axis=axis) / sumval\n"
     ]
    },
    {
     "data": {
      "image/png": "[encoded data removed]",
      "text/plain": [
       "<Figure size 432x288 with 1 Axes>"
      ]
     },
     "metadata": {
      "needs_background": "light"
     },
     "output_type": "display_data"
    }
   ],
   "source": [
    "sns.distplot(consolidated_ratings_comparison_with_mean_product_ratings['predicted_rating-actual_ratings_mean_by_product'], kde=True, \n",
    "             kde_kws = {'shade': True, 'linewidth': 3})\n",
    "\n",
    "sns.distplot(consolidated_ratings_comparison_with_mean_product_ratings['actual_rating-actual_ratings_mean_by_product'], kde=True, \n",
    "             kde_kws = {'shade': True, 'linewidth': 3, 'color':'red'})\n",
    "\n",
    "plt.title('Comparison of ratings diff of user ratings vs product avg rating - for predicted (blue) and actual(red)')\n",
    "plt.xlabel('error')\n",
    "plt.ylabel('density')\n",
    "\n",
    "plt.savefig('./data_out/plots/' + category_name + '_density_user_level_compare_ratings_with_avg_product_ratings.pdf')"
   ]
  },
  {
   "cell_type": "markdown",
   "metadata": {},
   "source": [
    "## Are our user level predictions significantly different from user means"
   ]
  },
  {
   "cell_type": "code",
   "execution_count": 226,
   "metadata": {},
   "outputs": [
    {
     "name": "stderr",
     "output_type": "stream",
     "text": [
      "/Users/kanwal/miniconda3/envs/py3/lib/python3.6/site-packages/scipy/stats/stats.py:1713: FutureWarning: Using a non-tuple sequence for multidimensional indexing is deprecated; use `arr[tuple(seq)]` instead of `arr[seq]`. In the future this will be interpreted as an array index, `arr[np.array(seq)]`, which will result either in an error or a different result.\n",
      "  return np.add.reduce(sorted[indexer] * weights, axis=axis) / sumval\n"
     ]
    },
    {
     "data": {
      "image/png": "[encoded data removed]",
      "text/plain": [
       "<Figure size 432x288 with 1 Axes>"
      ]
     },
     "metadata": {
      "needs_background": "light"
     },
     "output_type": "display_data"
    }
   ],
   "source": [
    "sns.distplot(consolidated_ratings_comparison_with_mean_product_ratings['predicted_rating-actual_ratings_mean_by_user'], kde=True, \n",
    "             kde_kws = {'shade': True, 'linewidth': 3})\n",
    "\n",
    "sns.distplot(consolidated_ratings_comparison_with_mean_product_ratings['actual_rating-actual_ratings_mean_by_user'], kde=True, \n",
    "             kde_kws = {'shade': True, 'linewidth': 3, 'color':'red'})\n",
    "\n",
    "plt.title('Comparison of ratings diff of user ratings vs product avg rating - for predicted (blue) and actual(red)')\n",
    "plt.xlabel('error')\n",
    "plt.ylabel('density')\n",
    "\n",
    "plt.savefig('./data_out/plots/' + category_name + '_density_user_level_compare_ratings_with_avg_user_ratings.pdf')"
   ]
  }
 ],
 "metadata": {
  "kernelspec": {
   "display_name": "Python 3",
   "language": "python",
   "name": "python3"
  },
  "language_info": {
   "codemirror_mode": {
    "name": "ipython",
    "version": 3
   },
   "file_extension": ".py",
   "mimetype": "text/x-python",
   "name": "python",
   "nbconvert_exporter": "python",
   "pygments_lexer": "ipython3",
   "version": "3.6.6"
  }
 },
 "nbformat": 4,
 "nbformat_minor": 2
}
